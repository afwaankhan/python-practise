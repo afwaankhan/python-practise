{
 "cells": [
  {
   "cell_type": "code",
   "execution_count": 7,
   "id": "e8929f81-aad8-4700-b4a4-e828992b7fe1",
   "metadata": {},
   "outputs": [
    {
     "name": "stdout",
     "output_type": "stream",
     "text": [
      "welcome to OOPS\n"
     ]
    }
   ],
   "source": [
    "class Python:\n",
    "   def fun(self):\n",
    "      print(\"welcome to OOPS\")\n",
    "pyt=Python()\n",
    "pyt.fun()"
   ]
  },
  {
   "cell_type": "code",
   "execution_count": 53,
   "id": "09568e3c-23a3-4e88-b7f7-f14cd802d5e2",
   "metadata": {},
   "outputs": [
    {
     "ename": "AttributeError",
     "evalue": "'Car' object has no attribute 'printCardate'",
     "output_type": "error",
     "traceback": [
      "\u001b[1;31m---------------------------------------------------------------------------\u001b[0m",
      "\u001b[1;31mAttributeError\u001b[0m                            Traceback (most recent call last)",
      "Cell \u001b[1;32mIn[53], line 13\u001b[0m\n\u001b[0;32m     10\u001b[0m        \u001b[38;5;28mprint\u001b[39m(\u001b[38;5;124m\"\u001b[39m\u001b[38;5;124mName:\u001b[39m\u001b[38;5;124m\"\u001b[39m,\u001b[38;5;28mself\u001b[39m\u001b[38;5;241m.\u001b[39mname,\u001b[38;5;124m\"\u001b[39m\u001b[38;5;124mid:\u001b[39m\u001b[38;5;124m\"\u001b[39m,\u001b[38;5;28mself\u001b[39m\u001b[38;5;241m.\u001b[39mid)\n\u001b[0;32m     12\u001b[0m c\u001b[38;5;241m=\u001b[39mCar(\u001b[38;5;124m\"\u001b[39m\u001b[38;5;124mAUDI\u001b[39m\u001b[38;5;124m\"\u001b[39m,\u001b[38;5;241m2000000\u001b[39m)\n\u001b[1;32m---> 13\u001b[0m c\u001b[38;5;241m.\u001b[39mprintCardate()\n",
      "\u001b[1;31mAttributeError\u001b[0m: 'Car' object has no attribute 'printCardate'"
     ]
    }
   ],
   "source": [
    "class Car:\n",
    "    'common_car'\n",
    "    car=0\n",
    "    def __init__(self,name,id):\n",
    "       self.name=name\n",
    "       self.id=id\n",
    "       Car.car+=1\n",
    "\n",
    "    def printCardata(self):\n",
    "       print(\"Name:\",self.name,\"id:\",self.id)\n",
    "    \n",
    "c=Car(\"AUDI\",2000000)\n",
    "c.printCardate()\n"
   ]
  },
  {
   "cell_type": "code",
   "execution_count": 65,
   "id": "2f1faf49-ecd2-409d-ae39-37f8b17db64c",
   "metadata": {},
   "outputs": [
    {
     "name": "stdout",
     "output_type": "stream",
     "text": [
      "dheeraj 22 150000\n"
     ]
    }
   ],
   "source": [
    "class Emp:\n",
    "    def __init__(self,n,a,s):\n",
    "        self.name=n\n",
    "        self.age=a\n",
    "        self.salary=s\n",
    "    def display(self):\n",
    "        print(self.name,self.age,self.salary)\n",
    "\n",
    "e1=Emp(\"dheeraj\",22,150000)\n",
    "e1.display()"
   ]
  },
  {
   "cell_type": "code",
   "execution_count": 69,
   "id": "b1171e86-6fce-4529-b332-9f8fd7b9eb09",
   "metadata": {},
   "outputs": [
    {
     "name": "stdout",
     "output_type": "stream",
     "text": [
      "Eagles above the sky brown\n"
     ]
    }
   ],
   "source": [
    "class Birds:\n",
    "    def __init__(self,n,h,c):\n",
    "        self.name=n\n",
    "        self.height=h\n",
    "        self.color=c\n",
    "    def display(self):\n",
    "        print(self.name,self.height,self.color)\n",
    "\n",
    "B1=Birds('Eagles',\"above the sky\",\"brown\")\n",
    "B1.display()"
   ]
  },
  {
   "cell_type": "code",
   "execution_count": 81,
   "id": "e74f1f1f-e2e3-47a8-8cdb-9ea52e3809cf",
   "metadata": {},
   "outputs": [
    {
     "name": "stdout",
     "output_type": "stream",
     "text": [
      "neg\n"
     ]
    }
   ],
   "source": [
    "class Number:\n",
    "    def __init__(self, n):\n",
    "        self.num = n\n",
    "\n",
    "    \n",
    "    def check_num(self):\n",
    "      if self.num >0:\n",
    "        print(\"positive\")\n",
    "      else:\n",
    "          print(\"neg\")\n",
    "\n",
    "b = Number(-1)\n",
    "b.check_num()"
   ]
  },
  {
   "cell_type": "code",
   "execution_count": 87,
   "id": "e8bc603d-16c0-4fb0-badf-56bef5eeca41",
   "metadata": {},
   "outputs": [
    {
     "name": "stdout",
     "output_type": "stream",
     "text": [
      "10\n"
     ]
    }
   ],
   "source": [
    "class Test:\n",
    "  x=10\n",
    "def __inti__(self):\n",
    "    print(\"hello\")\n",
    "t=Test()\n",
    "print(Test.x)"
   ]
  },
  {
   "cell_type": "code",
   "execution_count": 18,
   "id": "f3679dbf-f671-4cba-9fdc-fee843e34759",
   "metadata": {},
   "outputs": [
    {
     "name": "stdout",
     "output_type": "stream",
     "text": [
      "Total Cars: 3\n"
     ]
    },
    {
     "ename": "AttributeError",
     "evalue": "'Car' object has no attribute 'printCardate'",
     "output_type": "error",
     "traceback": [
      "\u001b[1;31m---------------------------------------------------------------------------\u001b[0m",
      "\u001b[1;31mAttributeError\u001b[0m                            Traceback (most recent call last)",
      "Cell \u001b[1;32mIn[18], line 15\u001b[0m\n\u001b[0;32m     13\u001b[0m c2\u001b[38;5;241m=\u001b[39mCar(\u001b[38;5;124m\"\u001b[39m\u001b[38;5;124mAUDI\u001b[39m\u001b[38;5;124m\"\u001b[39m,\u001b[38;5;241m2000000\u001b[39m)\n\u001b[0;32m     14\u001b[0m \u001b[38;5;28mprint\u001b[39m(\u001b[38;5;124m\"\u001b[39m\u001b[38;5;124mTotal Cars:\u001b[39m\u001b[38;5;124m\"\u001b[39m, Car\u001b[38;5;241m.\u001b[39mcar)\n\u001b[1;32m---> 15\u001b[0m c\u001b[38;5;241m.\u001b[39mprintCardate()\n\u001b[0;32m     16\u001b[0m c1\u001b[38;5;241m.\u001b[39mprintCardate()\n\u001b[0;32m     17\u001b[0m c2\u001b[38;5;241m.\u001b[39mprintCardate()\n",
      "\u001b[1;31mAttributeError\u001b[0m: 'Car' object has no attribute 'printCardate'"
     ]
    }
   ],
   "source": [
    "class Car:\n",
    "    'common_car'\n",
    "    car=0\n",
    "    def __init__(self,name,id):\n",
    "       self.name=name\n",
    "       self.id=id\n",
    "       Car.car+=1\n",
    "\n",
    "    def printCardata(self):\n",
    "       print(\"Name:\",self.name,\"id:\",self.id)\n",
    "c=Car(\"benz\",300000)\n",
    "c1=Car(\"lexus\",400000)   \n",
    "c2=Car(\"AUDI\",2000000)\n",
    "print(\"Total Cars:\", Car.car)\n",
    "c.printCardate()\n",
    "c1.printCardate()\n",
    "c2.printCardate()\n"
   ]
  },
  {
   "cell_type": "code",
   "execution_count": 20,
   "id": "0533d168-0079-4e6c-ae36-5444983371fe",
   "metadata": {},
   "outputs": [
    {
     "name": "stdout",
     "output_type": "stream",
     "text": [
      "engine is powerful\n",
      "100km\n"
     ]
    }
   ],
   "source": [
    "class Car:\n",
    "    def speed(self):\n",
    "        print(\"100km\")\n",
    "class Audi(Car):\n",
    "    def engine(self):\n",
    "        print(\"engine is powerful\")\n",
    "\n",
    "c=Audi()\n",
    "c.engine()\n",
    "c.speed()"
   ]
  },
  {
   "cell_type": "code",
   "execution_count": 26,
   "id": "8deb1e5b-5744-4801-9363-e110781c0a5c",
   "metadata": {},
   "outputs": [
    {
     "name": "stdout",
     "output_type": "stream",
     "text": [
      "some Generic sound\n",
      "bark\n",
      "memo\n"
     ]
    }
   ],
   "source": [
    "class Animal:\n",
    "    def sounnd(self):\n",
    "        print(\"some Generic sound\")\n",
    "\n",
    "class Dog(Animal):\n",
    "    def sounnd(self):\n",
    "        print(\"bark\")\n",
    "\n",
    "class Cat(Animal):\n",
    "    def sounnd(self):\n",
    "        print(\"memo\")\n",
    "\n",
    "dog=Dog()\n",
    "cat=Cat()\n",
    "a=Animal()\n",
    "a.sounnd()\n",
    "dog.sounnd()\n",
    "cat.sounnd()"
   ]
  },
  {
   "cell_type": "code",
   "execution_count": 40,
   "id": "3b1eea54-ed2e-4083-a9cd-6428df3c45b8",
   "metadata": {},
   "outputs": [],
   "source": [
    "class Calcu:\n",
    "    def add(self):\n",
    "     def sub(self):\n",
    "        print(\"base class\")\n",
    "\n",
    "class Advac(Calcu):\n",
    "    def mul(self):\n",
    "     def div(self):\n",
    "        print(\"derived class\")\n",
    "A=Advac()\n",
    "A.mul()\n",
    "A.add\n",
    "a\n"
   ]
  },
  {
   "cell_type": "code",
   "execution_count": 7,
   "id": "4f9d45ad-1ae0-4101-8101-80548166ac07",
   "metadata": {},
   "outputs": [
    {
     "name": "stdout",
     "output_type": "stream",
     "text": [
      "memo\n",
      "bark\n",
      "memo\n"
     ]
    }
   ],
   "source": [
    "class Animal:\n",
    "    def sounnd(self):\n",
    "    \n",
    "\n",
    "\n",
    "    def sounnd(dog):\n",
    "        print(\"bark\")\n",
    "\n",
    "\n",
    "    def sounnd(cat):\n",
    "        print(\"memo\")\n",
    "\n",
    "dog=Dog()\n",
    "cat=Cat()\n",
    "a=Animal()\n",
    "a.sounnd()\n",
    "dog.sounnd()\n",
    "cat.sounnd()"
   ]
  },
  {
   "cell_type": "code",
   "execution_count": 50,
   "id": "bef9fc0e-a797-4ad2-9d14-89a576792dcf",
   "metadata": {},
   "outputs": [
    {
     "name": "stdout",
     "output_type": "stream",
     "text": [
      "1\n",
      "3\n",
      "6\n"
     ]
    }
   ],
   "source": [
    "#cr4+reate calculator\n",
    "==.'////////''''''''''''''''''''''''''''''''''''''''''''''''''''''''''''''''''''''''''''''''''''''\n",
    "class Calc:\n",
    "    def add(self,*args):\n",
    "        return sum(args)\n",
    "\n",
    "def main():\n",
    "    result=Calc()\n",
    "    print(result.add(1))\n",
    "    print(result.add(1,2))\n",
    "    print(result.add(1,2,3))\n",
    "        \n",
    "main()"
   ]
  },
  {
   "cell_type": "code",
   "execution_count": null,
   "id": "da2f1a64-2eef-496e-ae13-9129840d35af",
   "metadata": {},
   "outputs": [],
   "source": [
    "class Finding:\n",
    "    def area()"
   ]
  }
 ],
 "metadata": {
  "kernelspec": {
   "display_name": "Python 3 (ipykernel)",
   "language": "python",
   "name": "python3"
  },
  "language_info": {
   "codemirror_mode": {
    "name": "ipython",
    "version": 3
   },
   "file_extension": ".py",
   "mimetype": "text/x-python",
   "name": "python",
   "nbconvert_exporter": "python",
   "pygments_lexer": "ipython3",
   "version": "3.12.4"
  }
 },
 "nbformat": 4,
 "nbformat_minor": 5
}
