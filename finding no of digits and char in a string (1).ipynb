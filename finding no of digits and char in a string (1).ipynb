{
 "cells": [
  {
   "cell_type": "code",
   "execution_count": 3,
   "id": "5ae132fb-1416-4fb9-8880-5678a64a1bdc",
   "metadata": {},
   "outputs": [
    {
     "name": "stdin",
     "output_type": "stream",
     "text": [
      " mca2024b\n"
     ]
    },
    {
     "name": "stdout",
     "output_type": "stream",
     "text": [
      "Digit: 4\n",
      "Alphabits 4\n"
     ]
    }
   ],
   "source": [
    "#write a program to find no.of char and digits in string\n",
    "M=str(input())\n",
    "digit=0\n",
    "alphab=0\n",
    "for i in M:\n",
    "    if i.isdigit():\n",
    "        digit+=1\n",
    "    elif i.isalpha():\n",
    "      alphab+=1\n",
    "print(\"Digit:\",digit)\n",
    "print(\"Alphabits\",alphab)\n"
   ]
  },
  {
   "cell_type": "code",
   "execution_count": null,
   "id": "691987c2-1d21-4c2e-bcd3-3882ff17df12",
   "metadata": {},
   "outputs": [],
   "source": []
  }
 ],
 "metadata": {
  "kernelspec": {
   "display_name": "Python 3 (ipykernel)",
   "language": "python",
   "name": "python3"
  },
  "language_info": {
   "codemirror_mode": {
    "name": "ipython",
    "version": 3
   },
   "file_extension": ".py",
   "mimetype": "text/x-python",
   "name": "python",
   "nbconvert_exporter": "python",
   "pygments_lexer": "ipython3",
   "version": "3.12.4"
  }
 },
 "nbformat": 4,
 "nbformat_minor": 5
}
